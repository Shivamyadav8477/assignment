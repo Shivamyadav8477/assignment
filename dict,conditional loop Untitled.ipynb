{
 "cells": [
  {
   "cell_type": "code",
   "execution_count": 36,
   "id": "91b018df-9278-4a73-9290-0459f16e8f67",
   "metadata": {},
   "outputs": [],
   "source": [
    "d={}"
   ]
  },
  {
   "cell_type": "code",
   "execution_count": 37,
   "id": "3d5e42bf-2f57-4364-a5c1-283b38afda67",
   "metadata": {},
   "outputs": [
    {
     "data": {
      "text/plain": [
       "dict"
      ]
     },
     "execution_count": 37,
     "metadata": {},
     "output_type": "execute_result"
    }
   ],
   "source": [
    "type(d)"
   ]
  },
  {
   "cell_type": "code",
   "execution_count": 38,
   "id": "bed14501-7241-4614-91a0-d1b246bd9b7d",
   "metadata": {},
   "outputs": [],
   "source": [
    "d1={\"key\":\"sudh\"}"
   ]
  },
  {
   "cell_type": "code",
   "execution_count": 39,
   "id": "e2a50c38-5c65-4184-99dc-64891c82fd63",
   "metadata": {},
   "outputs": [
    {
     "data": {
      "text/plain": [
       "{'key': 'sudh'}"
      ]
     },
     "execution_count": 39,
     "metadata": {},
     "output_type": "execute_result"
    }
   ],
   "source": [
    "d1"
   ]
  },
  {
   "cell_type": "code",
   "execution_count": 40,
   "id": "3c53804d-2659-461a-86ff-400ca7eef122",
   "metadata": {},
   "outputs": [
    {
     "ename": "SyntaxError",
     "evalue": "unterminated string literal (detected at line 1) (1599558879.py, line 1)",
     "output_type": "error",
     "traceback": [
      "\u001b[0;36m  Cell \u001b[0;32mIn [40], line 1\u001b[0;36m\u001b[0m\n\u001b[0;31m    d2 ={'name:\"sudhanshu\",\"email\":\"ss@gmail.com,\"number\":334534}\u001b[0m\n\u001b[0m         ^\u001b[0m\n\u001b[0;31mSyntaxError\u001b[0m\u001b[0;31m:\u001b[0m unterminated string literal (detected at line 1)\n"
     ]
    }
   ],
   "source": [
    "d2 ={'name:\"sudhanshu\",\"email\":\"ss@gmail.com,\"number\":334534}"
   ]
  },
  {
   "cell_type": "code",
   "execution_count": 41,
   "id": "b8cab28f-1cc3-47f3-ad03-d3ba76a7b2c2",
   "metadata": {},
   "outputs": [],
   "source": [
    "d3={234:\"sudh\"}"
   ]
  },
  {
   "cell_type": "code",
   "execution_count": 42,
   "id": "448113d1-352a-4b02-9e0d-aa180fbf2031",
   "metadata": {},
   "outputs": [],
   "source": [
    "d3={234:\"sudh\",\"_wer\":\"kumar\"}"
   ]
  },
  {
   "cell_type": "code",
   "execution_count": 43,
   "id": "2fb9394a-d0b8-4ebe-bc27-737586f376fc",
   "metadata": {},
   "outputs": [],
   "source": [
    "d3={234:\"sudh\",\"_wer\":\"kumar\",True:24234}"
   ]
  },
  {
   "cell_type": "code",
   "execution_count": 44,
   "id": "beacc230-5189-4892-8aca-87769b4c5691",
   "metadata": {},
   "outputs": [
    {
     "data": {
      "text/plain": [
       "{234: 'sudh', '_wer': 'kumar', True: 24234}"
      ]
     },
     "execution_count": 44,
     "metadata": {},
     "output_type": "execute_result"
    }
   ],
   "source": [
    "d3"
   ]
  },
  {
   "cell_type": "code",
   "execution_count": 45,
   "id": "6d09c784-3764-4105-956c-f62ddc7c5b7a",
   "metadata": {},
   "outputs": [
    {
     "data": {
      "text/plain": [
       "'sudh'"
      ]
     },
     "execution_count": 45,
     "metadata": {},
     "output_type": "execute_result"
    }
   ],
   "source": [
    "d3[234]"
   ]
  },
  {
   "cell_type": "code",
   "execution_count": 46,
   "id": "bb71425d-82f7-4eae-8e1f-b740be71f8b3",
   "metadata": {},
   "outputs": [
    {
     "data": {
      "text/plain": [
       "24234"
      ]
     },
     "execution_count": 46,
     "metadata": {},
     "output_type": "execute_result"
    }
   ],
   "source": [
    "d3[1]"
   ]
  },
  {
   "cell_type": "code",
   "execution_count": 47,
   "id": "7da87261-9d5e-49cb-8626-f1d54f4e16b4",
   "metadata": {},
   "outputs": [],
   "source": [
    "d4={'name':\"sudh\",\"mail_id\":\"ssgmail.com\",\"name\":\"sudhanshu\"}"
   ]
  },
  {
   "cell_type": "code",
   "execution_count": 48,
   "id": "c3477808-ddec-4cc5-bdb0-aba1c8da9a5e",
   "metadata": {},
   "outputs": [
    {
     "data": {
      "text/plain": [
       "'sudhanshu'"
      ]
     },
     "execution_count": 48,
     "metadata": {},
     "output_type": "execute_result"
    }
   ],
   "source": [
    "d4['name']"
   ]
  },
  {
   "cell_type": "code",
   "execution_count": 49,
   "id": "e78aa216-e7b9-4e39-a41c-770c30b08721",
   "metadata": {},
   "outputs": [],
   "source": [
    "d5={\"compnay\":\"pwskills\",\"course\":[\"web dev\",\"data science\",\"java with dsa system design\"]}"
   ]
  },
  {
   "cell_type": "code",
   "execution_count": 50,
   "id": "2c5f089e-8b8b-4135-ae1a-9cc97d550ace",
   "metadata": {},
   "outputs": [
    {
     "data": {
      "text/plain": [
       "{'compnay': 'pwskills',\n",
       " 'course': ['web dev', 'data science', 'java with dsa system design']}"
      ]
     },
     "execution_count": 50,
     "metadata": {},
     "output_type": "execute_result"
    }
   ],
   "source": [
    "d5"
   ]
  },
  {
   "cell_type": "code",
   "execution_count": 51,
   "id": "5713e8d7-f2c0-41dc-88db-0205bda2ce78",
   "metadata": {},
   "outputs": [
    {
     "data": {
      "text/plain": [
       "['web dev', 'data science', 'java with dsa system design']"
      ]
     },
     "execution_count": 51,
     "metadata": {},
     "output_type": "execute_result"
    }
   ],
   "source": [
    "d5['course']"
   ]
  },
  {
   "cell_type": "code",
   "execution_count": 52,
   "id": "b13bbe9b-57fd-476e-bd8a-89c161ac7380",
   "metadata": {},
   "outputs": [
    {
     "data": {
      "text/plain": [
       "'java with dsa system design'"
      ]
     },
     "execution_count": 52,
     "metadata": {},
     "output_type": "execute_result"
    }
   ],
   "source": [
    "d5['course'][2]"
   ]
  },
  {
   "cell_type": "code",
   "execution_count": 53,
   "id": "80ffa21b-1d16-4483-a0b7-3d934e1fc0b4",
   "metadata": {},
   "outputs": [],
   "source": [
    "d6={\"number\":[2,34,3,34,34],\"assigment\":(1,2,3,4,5,6),\"launch_date\":{28,12,14},\"class_time\":{\"web_dev\":8,\"data science master\":8,\"java with dsa and system design\":7}}"
   ]
  },
  {
   "cell_type": "code",
   "execution_count": 54,
   "id": "9818dc5e-7b44-4628-ba10-77d7df223973",
   "metadata": {},
   "outputs": [
    {
     "data": {
      "text/plain": [
       "{'number': [2, 34, 3, 34, 34],\n",
       " 'assigment': (1, 2, 3, 4, 5, 6),\n",
       " 'launch_date': {12, 14, 28},\n",
       " 'class_time': {'web_dev': 8,\n",
       "  'data science master': 8,\n",
       "  'java with dsa and system design': 7}}"
      ]
     },
     "execution_count": 54,
     "metadata": {},
     "output_type": "execute_result"
    }
   ],
   "source": [
    "d6"
   ]
  },
  {
   "cell_type": "code",
   "execution_count": 55,
   "id": "d47fada4-f13f-4361-bf01-e1431e62a8f9",
   "metadata": {},
   "outputs": [
    {
     "data": {
      "text/plain": [
       "7"
      ]
     },
     "execution_count": 55,
     "metadata": {},
     "output_type": "execute_result"
    }
   ],
   "source": [
    "d6['class_time']['java with dsa and system design']"
   ]
  },
  {
   "cell_type": "code",
   "execution_count": 56,
   "id": "a0b6665f-d6ee-409f-8b17-6fbedc544ac5",
   "metadata": {},
   "outputs": [
    {
     "data": {
      "text/plain": [
       "{'number': [2, 34, 3, 34, 34],\n",
       " 'assigment': (1, 2, 3, 4, 5, 6),\n",
       " 'launch_date': {12, 14, 28},\n",
       " 'class_time': {'web_dev': 8,\n",
       "  'data science master': 8,\n",
       "  'java with dsa and system design': 7}}"
      ]
     },
     "execution_count": 56,
     "metadata": {},
     "output_type": "execute_result"
    }
   ],
   "source": [
    "d6"
   ]
  },
  {
   "cell_type": "code",
   "execution_count": 57,
   "id": "836c7208-0599-4145-8ca5-39aa5f74acff",
   "metadata": {},
   "outputs": [],
   "source": [
    "d6[\"mentor\"]=[\"sudanshu\",\"krish\",\"anurag\",\"hayder\"]"
   ]
  },
  {
   "cell_type": "code",
   "execution_count": 58,
   "id": "f175464d-1db9-4c5c-8b02-9037c14df4a3",
   "metadata": {},
   "outputs": [
    {
     "data": {
      "text/plain": [
       "{'number': [2, 34, 3, 34, 34],\n",
       " 'assigment': (1, 2, 3, 4, 5, 6),\n",
       " 'launch_date': {12, 14, 28},\n",
       " 'class_time': {'web_dev': 8,\n",
       "  'data science master': 8,\n",
       "  'java with dsa and system design': 7},\n",
       " 'mentor': ['sudanshu', 'krish', 'anurag', 'hayder']}"
      ]
     },
     "execution_count": 58,
     "metadata": {},
     "output_type": "execute_result"
    }
   ],
   "source": [
    "d6"
   ]
  },
  {
   "cell_type": "code",
   "execution_count": 59,
   "id": "41cf8916-6859-41e7-a963-baf72b9485f3",
   "metadata": {},
   "outputs": [],
   "source": [
    "del d6[\"number\"]"
   ]
  },
  {
   "cell_type": "code",
   "execution_count": 60,
   "id": "e360a5f2-7bbe-4593-afb8-18f8c31b27ed",
   "metadata": {},
   "outputs": [
    {
     "data": {
      "text/plain": [
       "{'assigment': (1, 2, 3, 4, 5, 6),\n",
       " 'launch_date': {12, 14, 28},\n",
       " 'class_time': {'web_dev': 8,\n",
       "  'data science master': 8,\n",
       "  'java with dsa and system design': 7},\n",
       " 'mentor': ['sudanshu', 'krish', 'anurag', 'hayder']}"
      ]
     },
     "execution_count": 60,
     "metadata": {},
     "output_type": "execute_result"
    }
   ],
   "source": [
    "d6"
   ]
  },
  {
   "cell_type": "code",
   "execution_count": 61,
   "id": "78b96357-3e51-4596-a682-87f29a6ea2c1",
   "metadata": {},
   "outputs": [
    {
     "data": {
      "text/plain": [
       "dict_keys(['assigment', 'launch_date', 'class_time', 'mentor'])"
      ]
     },
     "execution_count": 61,
     "metadata": {},
     "output_type": "execute_result"
    }
   ],
   "source": [
    "d6.keys()"
   ]
  },
  {
   "cell_type": "code",
   "execution_count": 62,
   "id": "e488bff3-c261-403e-9a3b-c8e9a295e0f7",
   "metadata": {},
   "outputs": [
    {
     "data": {
      "text/plain": [
       "['assigment', 'launch_date', 'class_time', 'mentor']"
      ]
     },
     "execution_count": 62,
     "metadata": {},
     "output_type": "execute_result"
    }
   ],
   "source": [
    "list(d6.keys())"
   ]
  },
  {
   "cell_type": "code",
   "execution_count": 63,
   "id": "0e7fa18d-017b-447d-8896-350038937bfe",
   "metadata": {},
   "outputs": [
    {
     "data": {
      "text/plain": [
       "dict_values([(1, 2, 3, 4, 5, 6), {28, 12, 14}, {'web_dev': 8, 'data science master': 8, 'java with dsa and system design': 7}, ['sudanshu', 'krish', 'anurag', 'hayder']])"
      ]
     },
     "execution_count": 63,
     "metadata": {},
     "output_type": "execute_result"
    }
   ],
   "source": [
    "d6.values()"
   ]
  },
  {
   "cell_type": "code",
   "execution_count": 64,
   "id": "5aa689e5-a789-449a-a3df-e637c2cd3083",
   "metadata": {},
   "outputs": [
    {
     "data": {
      "text/plain": [
       "dict_items([('assigment', (1, 2, 3, 4, 5, 6)), ('launch_date', {28, 12, 14}), ('class_time', {'web_dev': 8, 'data science master': 8, 'java with dsa and system design': 7}), ('mentor', ['sudanshu', 'krish', 'anurag', 'hayder'])])"
      ]
     },
     "execution_count": 64,
     "metadata": {},
     "output_type": "execute_result"
    }
   ],
   "source": [
    "d6.items()"
   ]
  },
  {
   "cell_type": "code",
   "execution_count": 65,
   "id": "54276f2e-862c-4120-ac2c-265c248f3f9b",
   "metadata": {},
   "outputs": [
    {
     "data": {
      "text/plain": [
       "(1, 2, 3, 4, 5, 6)"
      ]
     },
     "execution_count": 65,
     "metadata": {},
     "output_type": "execute_result"
    }
   ],
   "source": [
    "d6.pop('assigment')"
   ]
  },
  {
   "cell_type": "code",
   "execution_count": 66,
   "id": "1029240a-621f-4463-845e-228280101360",
   "metadata": {},
   "outputs": [
    {
     "data": {
      "text/plain": [
       "{'launch_date': {12, 14, 28},\n",
       " 'class_time': {'web_dev': 8,\n",
       "  'data science master': 8,\n",
       "  'java with dsa and system design': 7},\n",
       " 'mentor': ['sudanshu', 'krish', 'anurag', 'hayder']}"
      ]
     },
     "execution_count": 66,
     "metadata": {},
     "output_type": "execute_result"
    }
   ],
   "source": [
    "d6"
   ]
  },
  {
   "cell_type": "code",
   "execution_count": 67,
   "id": "af6a7f49-2114-456a-ba96-bb762cd61cae",
   "metadata": {},
   "outputs": [
    {
     "ename": "TypeError",
     "evalue": "pop expected at least 1 argument, got 0",
     "output_type": "error",
     "traceback": [
      "\u001b[0;31m---------------------------------------------------------------------------\u001b[0m",
      "\u001b[0;31mTypeError\u001b[0m                                 Traceback (most recent call last)",
      "Cell \u001b[0;32mIn [67], line 1\u001b[0m\n\u001b[0;32m----> 1\u001b[0m \u001b[43md6\u001b[49m\u001b[38;5;241;43m.\u001b[39;49m\u001b[43mpop\u001b[49m\u001b[43m(\u001b[49m\u001b[43m)\u001b[49m\n",
      "\u001b[0;31mTypeError\u001b[0m: pop expected at least 1 argument, got 0"
     ]
    }
   ],
   "source": [
    "d6.pop()"
   ]
  },
  {
   "cell_type": "code",
   "execution_count": 69,
   "id": "f3649bfe-c158-45d9-bf60-11196a39f679",
   "metadata": {},
   "outputs": [
    {
     "name": "stdin",
     "output_type": "stream",
     "text": [
      "enter your marks 10\n"
     ]
    },
    {
     "name": "stdout",
     "output_type": "stream",
     "text": [
      "you will be part A3 batch\n"
     ]
    }
   ],
   "source": [
    "marks=int(input(\"enter your marks\"))\n",
    "if marks >=80:\n",
    "    print(\"you will be a part of A0 batch\")\n",
    "elif marks>= 60 and marks<80:\n",
    "    print(\"you will be a part of A1 batch\")\n",
    "elif marks>= 40 and marks < 60:\n",
    "    print(\"you will be a part of A2 batch\")\n",
    "else:\n",
    "    print(\"you will be part A3 batch\")"
   ]
  },
  {
   "cell_type": "code",
   "execution_count": 70,
   "id": "598a2dab-ddb0-449b-ab0c-76a5d0fd9a6c",
   "metadata": {},
   "outputs": [
    {
     "data": {
      "text/plain": [
       "False"
      ]
     },
     "execution_count": 70,
     "metadata": {},
     "output_type": "execute_result"
    }
   ],
   "source": [
    "10>=80"
   ]
  },
  {
   "cell_type": "code",
   "execution_count": 74,
   "id": "1aea0769-9eb8-4b05-b774-c9638a9c2e5b",
   "metadata": {},
   "outputs": [
    {
     "name": "stdin",
     "output_type": "stream",
     "text": [
      "enter your marks 10\n"
     ]
    }
   ],
   "source": [
    "marks= input(\"enter your marks\")"
   ]
  },
  {
   "cell_type": "code",
   "execution_count": 75,
   "id": "930e3c5c-9b37-4e38-b29d-4ff9e42ae1a7",
   "metadata": {},
   "outputs": [
    {
     "data": {
      "text/plain": [
       "'10'"
      ]
     },
     "execution_count": 75,
     "metadata": {},
     "output_type": "execute_result"
    }
   ],
   "source": [
    "marks"
   ]
  },
  {
   "cell_type": "code",
   "execution_count": 76,
   "id": "91301ece-22ec-4c93-8e94-772ed61f5b7f",
   "metadata": {},
   "outputs": [
    {
     "data": {
      "text/plain": [
       "str"
      ]
     },
     "execution_count": 76,
     "metadata": {},
     "output_type": "execute_result"
    }
   ],
   "source": [
    "type(marks)"
   ]
  },
  {
   "cell_type": "code",
   "execution_count": 78,
   "id": "22a0038c-816e-4a42-9ae2-98ab134dcdd2",
   "metadata": {},
   "outputs": [
    {
     "name": "stdin",
     "output_type": "stream",
     "text": [
      "enter your marks 10\n"
     ]
    }
   ],
   "source": [
    "marks= int(input(\"enter your marks\"))"
   ]
  },
  {
   "cell_type": "code",
   "execution_count": 79,
   "id": "ce8f6559-c4d9-47c2-a16b-bb4a14178f2d",
   "metadata": {},
   "outputs": [
    {
     "data": {
      "text/plain": [
       "int"
      ]
     },
     "execution_count": 79,
     "metadata": {},
     "output_type": "execute_result"
    }
   ],
   "source": [
    "type(marks)"
   ]
  },
  {
   "cell_type": "code",
   "execution_count": 80,
   "id": "d6d8dcd2-9660-4862-897e-fdb0c5124bca",
   "metadata": {},
   "outputs": [
    {
     "name": "stdin",
     "output_type": "stream",
     "text": [
      "enter price 5000\n"
     ]
    },
    {
     "name": "stdout",
     "output_type": "stream",
     "text": [
      "i will not purchase\n"
     ]
    }
   ],
   "source": [
    "price= int(input(\"enter price\"))\n",
    "if price > 1000:\n",
    "    print(\"i will not purchase\")\n",
    "else:\n",
    "    print(\"i will purchase\")"
   ]
  },
  {
   "cell_type": "code",
   "execution_count": 21,
   "id": "8f418455-b059-4f9c-a33c-1cc91003cc77",
   "metadata": {},
   "outputs": [
    {
     "name": "stdin",
     "output_type": "stream",
     "text": [
      "enter price 7000\n"
     ]
    },
    {
     "name": "stdout",
     "output_type": "stream",
     "text": [
      "i will not purchase\n"
     ]
    }
   ],
   "source": [
    "price= int(input(\"enter price\"))\n",
    "if price > 1000:\n",
    "    print(\"i will not purchase\")"
   ]
  },
  {
   "cell_type": "code",
   "execution_count": 22,
   "id": "e82848dd-5d5d-41e7-9650-3c7f8c9bec39",
   "metadata": {},
   "outputs": [
    {
     "name": "stdin",
     "output_type": "stream",
     "text": [
      "enter price 7000\n"
     ]
    },
    {
     "name": "stdout",
     "output_type": "stream",
     "text": [
      "i will not purchase\n",
      "this is to much\n"
     ]
    }
   ],
   "source": [
    "price= int(input(\"enter price\"))\n",
    "if price > 1000:\n",
    "    print(\"i will not purchase\")\n",
    "    if price>5000:\n",
    "        print(\"this is to much\")"
   ]
  },
  {
   "cell_type": "code",
   "execution_count": 81,
   "id": "171da51f-af18-41e8-94a3-ac831d95943c",
   "metadata": {},
   "outputs": [],
   "source": [
    "l=[1,2,3,4,5,6,7,8]"
   ]
  },
  {
   "cell_type": "code",
   "execution_count": 82,
   "id": "8518bc9f-4ca1-45df-99c2-f5ad44a417ba",
   "metadata": {},
   "outputs": [
    {
     "data": {
      "text/plain": [
       "2"
      ]
     },
     "execution_count": 82,
     "metadata": {},
     "output_type": "execute_result"
    }
   ],
   "source": [
    "l[0]+1"
   ]
  },
  {
   "cell_type": "code",
   "execution_count": 83,
   "id": "d6576a63-03da-42a3-890f-c3f528be5f8f",
   "metadata": {},
   "outputs": [],
   "source": [
    "l1=[]"
   ]
  },
  {
   "cell_type": "code",
   "execution_count": 84,
   "id": "9f55034d-bfa0-48e2-9845-c55cdb8010b1",
   "metadata": {},
   "outputs": [],
   "source": [
    "l1.append(l[0]+1)"
   ]
  },
  {
   "cell_type": "code",
   "execution_count": 85,
   "id": "003a2e1b-9cc4-4553-8302-34f06bb21127",
   "metadata": {},
   "outputs": [
    {
     "data": {
      "text/plain": [
       "[2]"
      ]
     },
     "execution_count": 85,
     "metadata": {},
     "output_type": "execute_result"
    }
   ],
   "source": [
    "l1"
   ]
  },
  {
   "cell_type": "code",
   "execution_count": 86,
   "id": "c1f08a88-4659-4fa6-9eba-4b165553ec1a",
   "metadata": {},
   "outputs": [],
   "source": [
    "l=[1,2,3,4,5,6,7,8]"
   ]
  },
  {
   "cell_type": "code",
   "execution_count": 87,
   "id": "4ca1e23b-ba3e-4f4f-abb7-7799e6b99741",
   "metadata": {},
   "outputs": [
    {
     "name": "stdout",
     "output_type": "stream",
     "text": [
      "2\n",
      "3\n",
      "4\n",
      "5\n",
      "6\n",
      "7\n",
      "8\n",
      "9\n"
     ]
    },
    {
     "data": {
      "text/plain": [
       "[2, 3, 4, 5, 6, 7, 8, 9]"
      ]
     },
     "execution_count": 87,
     "metadata": {},
     "output_type": "execute_result"
    }
   ],
   "source": [
    "l1=[]\n",
    "for i in l:\n",
    "    print(i+1)\n",
    "    l1.append(i+1)\n",
    "l1    "
   ]
  },
  {
   "cell_type": "code",
   "execution_count": 88,
   "id": "9b20245e-fcbf-4b2f-8ad5-c0050e1e9ece",
   "metadata": {},
   "outputs": [
    {
     "data": {
      "text/plain": [
       "[1, 2, 3, 4, 5, 6, 7, 8]"
      ]
     },
     "execution_count": 88,
     "metadata": {},
     "output_type": "execute_result"
    }
   ],
   "source": [
    "l"
   ]
  },
  {
   "cell_type": "code",
   "execution_count": 89,
   "id": "66445657-48af-4b98-bd45-b5d058bfb392",
   "metadata": {},
   "outputs": [],
   "source": [
    "l=[\"sudh\",\"kumar\",\"pwskills\",\"course\"]"
   ]
  },
  {
   "cell_type": "code",
   "execution_count": 90,
   "id": "5f581a7a-6e09-4819-b7ce-51ee32b64881",
   "metadata": {},
   "outputs": [
    {
     "name": "stdout",
     "output_type": "stream",
     "text": [
      "sudh\n",
      "kumar\n",
      "pwskills\n",
      "course\n"
     ]
    }
   ],
   "source": [
    "l1=[]\n",
    "for i in l:\n",
    "    print(i)\n",
    "    l1.append(i.upper())"
   ]
  },
  {
   "cell_type": "code",
   "execution_count": 91,
   "id": "d4a18055-7730-4692-ad3c-0b8216b991a0",
   "metadata": {},
   "outputs": [
    {
     "data": {
      "text/plain": [
       "['SUDH', 'KUMAR', 'PWSKILLS', 'COURSE']"
      ]
     },
     "execution_count": 91,
     "metadata": {},
     "output_type": "execute_result"
    }
   ],
   "source": [
    "l1"
   ]
  },
  {
   "cell_type": "code",
   "execution_count": 92,
   "id": "3facc245-3dbb-4774-a67e-7e12bd91a689",
   "metadata": {},
   "outputs": [],
   "source": [
    "l=[1,2,3,4,4,\"sudh\",\"kumar\",324,34.456,\"abc\"]"
   ]
  },
  {
   "cell_type": "code",
   "execution_count": null,
   "id": "81751fed-f506-4130-96e1-c34ba00b875b",
   "metadata": {},
   "outputs": [],
   "source": [
    "l1_num=[]\n",
    "l2_str=[]\n",
    "for in l:\n",
    "    if type(i)==int or type(i)==float:\n",
    "        l1_num.append(i)\n",
    "    else:\n",
    "        l2_str.append(i)\n",
    "    "
   ]
  },
  {
   "cell_type": "code",
   "execution_count": null,
   "id": "ac75a45c-af35-45f9-864e-edc961256cc7",
   "metadata": {},
   "outputs": [],
   "source": [
    "l1_num"
   ]
  },
  {
   "cell_type": "code",
   "execution_count": null,
   "id": "fb0a3db0-aae8-4fd6-8e81-7d50a436a43d",
   "metadata": {},
   "outputs": [],
   "source": [
    "l2_str"
   ]
  },
  {
   "cell_type": "code",
   "execution_count": null,
   "id": "737520e5-a897-427a-b80d-eadf42423d2d",
   "metadata": {},
   "outputs": [],
   "source": []
  }
 ],
 "metadata": {
  "kernelspec": {
   "display_name": "Python 3 (ipykernel)",
   "language": "python",
   "name": "python3"
  },
  "language_info": {
   "codemirror_mode": {
    "name": "ipython",
    "version": 3
   },
   "file_extension": ".py",
   "mimetype": "text/x-python",
   "name": "python",
   "nbconvert_exporter": "python",
   "pygments_lexer": "ipython3",
   "version": "3.10.6"
  }
 },
 "nbformat": 4,
 "nbformat_minor": 5
}
